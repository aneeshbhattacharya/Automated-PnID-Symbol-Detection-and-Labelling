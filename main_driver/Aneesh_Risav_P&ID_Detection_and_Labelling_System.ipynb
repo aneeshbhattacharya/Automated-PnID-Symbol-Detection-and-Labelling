{
 "cells": [
  {
   "cell_type": "code",
   "execution_count": 1,
   "metadata": {
    "colab": {
     "base_uri": "https://localhost:8080/"
    },
    "id": "Z4axnRwO7djX",
    "outputId": "1e592a54-2539-41c6-e32e-e1d8d41e08c1"
   },
   "outputs": [
    {
     "name": "stderr",
     "output_type": "stream",
     "text": [
      "/Users/aneesh/opt/anaconda3/envs/LTTS/lib/python3.7/site-packages/ipykernel_launcher.py:8: UserWarning: viewer requires Qt\n",
      "  \n",
      "/Users/aneesh/opt/anaconda3/envs/LTTS/lib/python3.7/site-packages/tqdm/auto.py:22: TqdmWarning: IProgress not found. Please update jupyter and ipywidgets. See https://ipywidgets.readthedocs.io/en/stable/user_install.html\n",
      "  from .autonotebook import tqdm as notebook_tqdm\n"
     ]
    }
   ],
   "source": [
    "import shutil\n",
    "import cv2\n",
    "import numpy as np\n",
    "import matplotlib.pyplot as plt\n",
    "import os\n",
    "from pylab import *\n",
    "from skimage import data\n",
    "from skimage.viewer.canvastools import RectangleTool\n",
    "from skimage.viewer import ImageViewer\n",
    "from tqdm import tqdm\n",
    "import torch\n",
    "import torch.nn as nn  \n",
    "import torch.optim as optim \n",
    "import torchvision.transforms as transforms \n",
    "import torch.nn.functional as F\n",
    "import torchvision\n",
    "import pandas as pd\n",
    "from skimage import io\n",
    "from torch.utils.data import (\n",
    "    Dataset,\n",
    "    DataLoader,\n",
    ") \n",
    "from PIL import Image\n",
    "import math\n",
    "import json"
   ]
  },
  {
   "cell_type": "code",
   "execution_count": 2,
   "metadata": {
    "id": "3IXVLZOJO-_E"
   },
   "outputs": [],
   "source": [
    "if os.path.exists(\"../mmocr\") == False:\n",
    "    print(\"MMOCR not installed. Please run BASH script first\")"
   ]
  },
  {
   "cell_type": "code",
   "execution_count": 3,
   "metadata": {
    "colab": {
     "base_uri": "https://localhost:8080/"
    },
    "id": "-tqG3xRGI5HK",
    "outputId": "ea44eb45-14c5-4144-e0f9-3bbf4a2543e7"
   },
   "outputs": [
    {
     "name": "stdout",
     "output_type": "stream",
     "text": [
      "1.12.0\n"
     ]
    }
   ],
   "source": [
    "print(torch.__version__)"
   ]
  },
  {
   "cell_type": "markdown",
   "metadata": {
    "id": "Q4QxGzUuH35T"
   },
   "source": [
    "Load PyTorch Model and helpers\n"
   ]
  },
  {
   "cell_type": "code",
   "execution_count": 4,
   "metadata": {
    "id": "5oPmn3QBH5s8"
   },
   "outputs": [],
   "source": [
    "class FCN(nn.Module):\n",
    "    def __init__(self,in_channels = 1,num_classes=7):\n",
    "        super(FCN,self).__init__()\n",
    "        self.conv1 = nn.Sequential(\n",
    "            nn.Conv2d(in_channels=1, out_channels=32, kernel_size=(3,3), stride=(1,1), padding=(1,1)),\n",
    "            nn.BatchNorm2d(32, momentum=0.01),\n",
    "            nn.ReLU(inplace=True),\n",
    "            nn.Conv2d(in_channels=32, out_channels=32, kernel_size=(3,3), stride=(1,1), padding=(1,1)),\n",
    "            nn.MaxPool2d(kernel_size=2),\n",
    "        )\n",
    "        self.conv2 = nn.Sequential(\n",
    "            nn.Conv2d(in_channels=32, out_channels=64, kernel_size=(3,3), stride=(1,1), padding=(1,1)),\n",
    "            nn.BatchNorm2d(64, momentum=0.01),\n",
    "            nn.ReLU(inplace=True),\n",
    "            nn.Conv2d(in_channels=64, out_channels=64, kernel_size=(3,3), stride=(1,1), padding=(1,1)),\n",
    "            nn.MaxPool2d(kernel_size=2),\n",
    "        )\n",
    "        self.conv3 = nn.Sequential(\n",
    "            nn.Conv2d(in_channels=64, out_channels=64, kernel_size=(3,3), stride=(1,1), padding=(1,1)),\n",
    "            nn.BatchNorm2d(64, momentum=0.01),\n",
    "            nn.ReLU(inplace=True),\n",
    "            nn.Conv2d(in_channels=64, out_channels=64, kernel_size=(3,3), stride=(1,1), padding=(1,1)),\n",
    "            nn.MaxPool2d(kernel_size=2),\n",
    "        )\n",
    "        self.fc1 = nn.Sequential(\n",
    "            nn.Linear(20736,256),\n",
    "            nn.ReLU(inplace=True),\n",
    "            nn.Dropout(p=0.25),\n",
    "            nn.BatchNorm1d(256)\n",
    "        )\n",
    "        self.fc2 = nn.Sequential(\n",
    "            nn.Linear(256,128),\n",
    "            nn.ReLU(inplace=True),\n",
    "            nn.Dropout(p=0.25),\n",
    "            nn.BatchNorm1d(128)\n",
    "        )\n",
    "        self.fc3 = nn.Sequential(\n",
    "            nn.Linear(128,64),\n",
    "            nn.ReLU(inplace=True),\n",
    "            nn.Dropout(p=0.25),\n",
    "            nn.BatchNorm1d(64)\n",
    "        )\n",
    "        self.fc4 = nn.Linear(64,7)\n",
    "\n",
    "    def forward(self,x):\n",
    "        x = self.conv1(x)\n",
    "        x = self.conv2(x)\n",
    "        x = self.conv3(x)\n",
    "        x = x.reshape(x.shape[0],-1)\n",
    "        # print(x.shape)\n",
    "        x = self.fc1(x)\n",
    "        x = self.fc2(x)\n",
    "        x = self.fc3(x)\n",
    "        x = F.softmax(self.fc4(x),dim=1)\n",
    "        return x"
   ]
  },
  {
   "cell_type": "code",
   "execution_count": 5,
   "metadata": {
    "colab": {
     "base_uri": "https://localhost:8080/"
    },
    "id": "xKi9RdA2IPaZ",
    "outputId": "4c31bd4a-7c35-475c-cb15-708903eddd0b"
   },
   "outputs": [
    {
     "name": "stdout",
     "output_type": "stream",
     "text": [
      "Enter model location: ./model_Inverted\n",
      "Setting model up on cpu\n",
      "Model ready\n"
     ]
    }
   ],
   "source": [
    "model_location = input(\"Enter model location: \")\n",
    "# /content/drive/MyDrive/LTTS Internship/model_Inverted\n",
    "model = FCN()\n",
    "x = torch.randn(64,1,150,150)\n",
    "device = torch.device('cuda' if torch.cuda.is_available() else 'cpu')\n",
    "print(\"Setting model up on\",device)\n",
    "if torch.cuda.is_available() == True:\n",
    "    model.cuda()\n",
    "    model.load_state_dict(torch.load(model_location))\n",
    "\n",
    "else:\n",
    "    my_model = model.load_state_dict(torch.load(model_location, map_location=torch.device('cpu')))\n",
    "\n",
    "data_transform = transforms.Compose([\n",
    "                                    transforms.Lambda(lambda x:torch.from_numpy(np.expand_dims(np.array(x),axis=0)).float())\n",
    "                                ])\n",
    "\n",
    "model.eval() \n",
    "print(\"Model ready\")"
   ]
  },
  {
   "cell_type": "markdown",
   "metadata": {
    "id": "i5F6UlnP8IO9"
   },
   "source": [
    "Load and Display a P&ID Sheet\n"
   ]
  },
  {
   "cell_type": "code",
   "execution_count": 6,
   "metadata": {
    "colab": {
     "base_uri": "https://localhost:8080/",
     "height": 282
    },
    "id": "okxJpwDE8BfS",
    "outputId": "9a04139a-247a-47b2-c8db-12ac0aa8c140"
   },
   "outputs": [
    {
     "name": "stdout",
     "output_type": "stream",
     "text": [
      "Enter P&ID image file: ./3.jpg\n"
     ]
    },
    {
     "data": {
      "image/png": "[encoded data removed]",
      "text/plain": [
       "<Figure size 432x288 with 1 Axes>"
      ]
     },
     "metadata": {
      "needs_background": "light"
     },
     "output_type": "display_data"
    }
   ],
   "source": [
    "read_location = input('Enter P&ID image file: ')\n",
    "img = cv2.imread(read_location,0)\n",
    "plt.imshow(img,cmap='gray')\n",
    "plt.show()"
   ]
  },
  {
   "cell_type": "markdown",
   "metadata": {
    "id": "KU5tPPfc9TWB"
   },
   "source": [
    "Get ROI from image\n",
    "1. Roughly estimate the x range and y range for a valid diagram (try to exclude unecessary regions like the entire text area on the side to avoid wasting time)\n",
    "2. For the above x = 400 to 5600 roughly and y = 250 to 5000 roughly"
   ]
  },
  {
   "cell_type": "code",
   "execution_count": 7,
   "metadata": {
    "colab": {
     "base_uri": "https://localhost:8080/"
    },
    "id": "iniFsWdz9g2F",
    "outputId": "79a44d0a-e139-43af-a145-653d466b4a27"
   },
   "outputs": [
    {
     "name": "stdout",
     "output_type": "stream",
     "text": [
      "x start: 400\n",
      "x_end: 5600\n",
      "y_start: 250\n",
      "y_end: 5000\n"
     ]
    }
   ],
   "source": [
    "x_start = int(input(\"x start: \"))\n",
    "x_end = int(input(\"x_end: \"))\n",
    "y_start = int(input(\"y_start: \"))\n",
    "y_end = int(input(\"y_end: \"))"
   ]
  },
  {
   "cell_type": "code",
   "execution_count": 8,
   "metadata": {
    "colab": {
     "base_uri": "https://localhost:8080/",
     "height": 286
    },
    "id": "Ym0d51sd-nGM",
    "outputId": "3fdc1144-e76b-4026-c5a1-2337e6033105"
   },
   "outputs": [
    {
     "name": "stdout",
     "output_type": "stream",
     "text": [
      "Image to work on:\n"
     ]
    },
    {
     "data": {
      "image/png": "[encoded data removed]",
      "text/plain": [
       "<Figure size 432x288 with 1 Axes>"
      ]
     },
     "metadata": {
      "needs_background": "light"
     },
     "output_type": "display_data"
    }
   ],
   "source": [
    "ready_img = img[y_start:y_end,x_start:x_end]\n",
    "print(\"Image to work on:\")\n",
    "plt.imshow(ready_img,cmap='gray')\n",
    "plt.show()"
   ]
  },
  {
   "cell_type": "markdown",
   "metadata": {
    "id": "fVjW958s8Uzz"
   },
   "source": [
    "Re-Color image into black and white"
   ]
  },
  {
   "cell_type": "code",
   "execution_count": 9,
   "metadata": {
    "id": "crFOXuWf8SZm"
   },
   "outputs": [],
   "source": [
    "def recolor_crop(crop):\n",
    "    for i in tqdm(range(len(crop))):\n",
    "        for j in range(len(crop[0])):\n",
    "            if crop[i][j] >=120:\n",
    "                crop[i][j] = 225\n",
    "            else:\n",
    "                crop[i][j]=0\n",
    "\n",
    "    return crop"
   ]
  },
  {
   "cell_type": "code",
   "execution_count": 10,
   "metadata": {
    "colab": {
     "base_uri": "https://localhost:8080/"
    },
    "id": "XA3rCvj08Xuk",
    "outputId": "a4b5c4ee-7a51-480c-e082-e09af46eb86b"
   },
   "outputs": [
    {
     "name": "stderr",
     "output_type": "stream",
     "text": [
      "100%|███████████████████████████████████████████████████████████████████| 4311/4311 [01:00<00:00, 71.11it/s]\n"
     ]
    }
   ],
   "source": [
    "colorized = recolor_crop(ready_img)"
   ]
  },
  {
   "cell_type": "code",
   "execution_count": 11,
   "metadata": {
    "id": "zOnU16bAYlxo"
   },
   "outputs": [],
   "source": [
    "main_img = colorized.copy()"
   ]
  },
  {
   "cell_type": "code",
   "execution_count": 12,
   "metadata": {
    "id": "gfbM4DY9Et3t"
   },
   "outputs": [],
   "source": [
    "def invert(x):\n",
    "    for i in range(len(x)):\n",
    "        for j in range(len(x[0])):\n",
    "            if x[i][j] > 200:\n",
    "                x[i][j] = 0\n",
    "            else:\n",
    "                x[i][j] = 1\n",
    "    return x"
   ]
  },
  {
   "cell_type": "markdown",
   "metadata": {
    "id": "_CLIhZfu8Lr-"
   },
   "source": [
    "Loop to traverse the sheet and obtain regions with information present"
   ]
  },
  {
   "cell_type": "code",
   "execution_count": 13,
   "metadata": {
    "id": "1k6mXm4t8LG9"
   },
   "outputs": [],
   "source": [
    "m,n = img.shape"
   ]
  },
  {
   "cell_type": "code",
   "execution_count": 14,
   "metadata": {
    "colab": {
     "base_uri": "https://localhost:8080/"
    },
    "id": "_20RAkcUAjAR",
    "outputId": "d33205b2-fbcb-4491-bfa7-f789a3acf2a6"
   },
   "outputs": [
    {
     "name": "stderr",
     "output_type": "stream",
     "text": [
      "100%|███████████████████████████████████████████████████████████████████████| 59/59 [00:16<00:00,  3.68it/s]\n"
     ]
    }
   ],
   "source": [
    "objects_info = {}\n",
    "object_id = 0\n",
    "'''\n",
    "format:\n",
    "    oject_info[1] : {\n",
    "        class_id: int\n",
    "        bounding_box = [xmin,xmax,ymin,ymax]\n",
    "    }\n",
    "'''\n",
    "\n",
    "for i in tqdm(range(0,m-150,75)):\n",
    "    for j in range(0,n-150,75):\n",
    "        x_min = j\n",
    "        x_max = j+150\n",
    "        y_min = i\n",
    "        y_max = i+150\n",
    "\n",
    "        bounding_box = [x_min,x_max,y_min,y_max]\n",
    "        \n",
    "        xmid = x_min + ((x_max-x_min)//2)\n",
    "        ymid = y_min + ((y_max-y_min)//2)\n",
    "\n",
    "        centroid = [xmid,ymid]\n",
    "\n",
    "        temp = main_img[y_min:y_max,x_min:x_max]\n",
    "        window = temp.copy()\n",
    "\n",
    "        black = np.count_nonzero(window == 0)\n",
    "        total = 150 * 150\n",
    "\n",
    "        percentage_black = (black/total)*100\n",
    "\n",
    "        if percentage_black>10:\n",
    "            window = invert(window)\n",
    "            im_pil = Image.fromarray(window)\n",
    "            im = data_transform(im_pil)\n",
    "            im_a = im.numpy()\n",
    "            im_a = np.expand_dims(im_a, axis=0)\n",
    "            t = torch.tensor(im_a)\n",
    "            with torch.no_grad():  \n",
    "                t = t.to(device)   \n",
    "                score = model(t)\n",
    "\n",
    "                _, predictions = torch.max(score, 1)\n",
    "\n",
    "                class_id = predictions.item()\n",
    "                if class_id != 6:\n",
    "\n",
    "                    temp_dict = {\n",
    "                        \"class_id\":int(class_id),\n",
    "                        \"bounding_box\":bounding_box,\n",
    "                        \"centroid\":centroid\n",
    "                    }\n",
    "\n",
    "                    objects_info[object_id] = temp_dict\n",
    "                    object_id+=1\n",
    "\n",
    "\n",
    "\n",
    "\n"
   ]
  },
  {
   "cell_type": "code",
   "execution_count": 15,
   "metadata": {
    "id": "ABES5uxWpaYw"
   },
   "outputs": [],
   "source": [
    "def get_distance(x,y):\n",
    "    xmid1 = x[0]\n",
    "    ymid1 = x[1]\n",
    "\n",
    "    xmid2 = y[0]\n",
    "    ymid2 = y[1]\n",
    "\n",
    "    return math.sqrt((ymid2-ymid1)**2 + (xmid2-xmid1)**2)\n",
    "\n"
   ]
  },
  {
   "cell_type": "markdown",
   "metadata": {
    "id": "mAfAQNDSu_mA"
   },
   "source": [
    "Group bounding boxes"
   ]
  },
  {
   "cell_type": "code",
   "execution_count": 16,
   "metadata": {
    "id": "qMrO6cU8y2bs"
   },
   "outputs": [],
   "source": [
    "list_of_objects = list(objects_info.keys())\n",
    "groups = []\n",
    "\n",
    "for i in range(len(objects_info)):\n",
    "    curr_object = objects_info[list_of_objects[i]]\n",
    "    curr_centroid = curr_object['centroid']\n",
    "    curr_class = curr_object['class_id']\n",
    "\n",
    "    temp_grp = [i]\n",
    "\n",
    "    for j in range(len(objects_info)):\n",
    "        compare_object = objects_info[list_of_objects[j]]\n",
    "        compare_centroid = compare_object['centroid']\n",
    "        compare_class = compare_object['class_id']\n",
    "\n",
    "        #Group using centroid and class preds\n",
    "\n",
    "        if get_distance(curr_centroid,compare_centroid) < 80 and curr_class == compare_class:\n",
    "            temp_grp.append(j)\n",
    "\n",
    "    temp_grp.sort()\n",
    "\n",
    "    groups.append(temp_grp)\n",
    "\n",
    "groups_dict = {}\n",
    "been_done = {}\n",
    "\n",
    "for i in groups:\n",
    "    temp = i\n",
    "\n",
    "    if temp[0] not in been_done.keys():\n",
    "        been_done[temp[0]] = temp[0]\n",
    "\n",
    "    main_key = been_done[temp[0]]\n",
    "\n",
    "    if main_key not in groups_dict.keys():\n",
    "        groups_dict[main_key] = []\n",
    "\n",
    "    for j in temp:\n",
    "        been_done[j] = main_key\n",
    "\n",
    "\n",
    "    groups_dict[main_key].extend(temp)\n",
    "\n",
    "\n",
    "    groups_dict[main_key] = list(set(groups_dict[main_key]))\n",
    "    groups_dict[main_key].sort()\n"
   ]
  },
  {
   "cell_type": "code",
   "execution_count": 17,
   "metadata": {
    "id": "E6_7WV_FGXpr"
   },
   "outputs": [],
   "source": [
    "final_info = {}\n",
    "\n",
    "draw_img = colorized.copy()\n",
    "for i in groups_dict.keys():\n",
    "    object_id = i\n",
    "\n",
    "    x_min_list = []\n",
    "    y_min_list = []\n",
    "    x_max_list = []\n",
    "    y_max_list = []\n",
    "\n",
    "    for j in groups_dict[i]:\n",
    "\n",
    "        xmin,xmax,ymin,ymax = objects_info[j]['bounding_box']\n",
    "\n",
    "        x_min_list.append(xmin)\n",
    "        x_max_list.append(xmax)\n",
    "        y_min_list.append(ymin)\n",
    "        y_max_list.append(ymax)\n",
    "\n",
    "    xmin = min(x_min_list)\n",
    "    ymin = min(y_min_list)\n",
    "    xmax = max(x_max_list)\n",
    "    ymax = max(y_max_list)\n",
    "\n",
    "    xmid = xmin + ((xmax-xmin)//2)\n",
    "    ymid = ymin + ((ymax-ymin)//2)\n",
    "\n",
    "    xmin = xmid-80\n",
    "    ymin = ymid-80\n",
    "    xmax = xmid+80\n",
    "    ymax = ymid+80\n",
    "\n",
    "\n",
    "\n",
    "    class_id = objects_info[i]['class_id']\n",
    "\n",
    "    temp = {}\n",
    "    temp = {\n",
    "        \"class_id\":class_id,\n",
    "        \"bbox\": [xmin,xmax,ymin,ymax],\n",
    "        \"centroid\": [xmid,ymid]\n",
    "    }\n",
    "\n",
    "    draw_img = cv2.rectangle(draw_img, (xmin,ymin), (xmax,ymax), (0,225,0), 5)\n",
    "\n",
    "    final_info[i] = temp\n",
    "\n",
    "\n",
    "\n"
   ]
  },
  {
   "cell_type": "markdown",
   "metadata": {
    "id": "dLs7YgyPvvYR"
   },
   "source": [
    "Group similar BBOXES and take only region of max area"
   ]
  },
  {
   "cell_type": "code",
   "execution_count": 18,
   "metadata": {
    "colab": {
     "base_uri": "https://localhost:8080/",
     "height": 680
    },
    "id": "HV-SG9QutNKk",
    "outputId": "b99edf2b-e540-4338-85e5-244d4c45be4d"
   },
   "outputs": [
    {
     "data": {
      "image/png": "[encoded data removed]",
      "text/plain": [
       "<Figure size 1080x2160 with 1 Axes>"
      ]
     },
     "metadata": {
      "needs_background": "light"
     },
     "output_type": "display_data"
    }
   ],
   "source": [
    "modif_info = final_info.copy()\n",
    "for i in list(modif_info.keys()):\n",
    "\n",
    "    if i not in modif_info.keys():\n",
    "        continue\n",
    "\n",
    "    curr_object = modif_info[i]\n",
    "    x_min,x_max,y_min,y_max = curr_object['bbox']\n",
    "    curr_class = curr_object['class_id']\n",
    "\n",
    "    curr_centroid = curr_object['centroid']\n",
    "\n",
    "    temp = main_img[y_min:y_max,x_min:x_max]\n",
    "    window = temp.copy()\n",
    "\n",
    "    black = np.count_nonzero(window == 0)\n",
    "    total = 150 * 150\n",
    "\n",
    "    curr_percentage_black = (black/total)*100\n",
    "\n",
    "    for j in list(modif_info.keys()):\n",
    "        \n",
    "        if j not in modif_info.keys():\n",
    "            continue\n",
    "\n",
    "        if i!=j:\n",
    "            compare_object = modif_info[j]\n",
    "            x_min,x_max,y_min,y_max = compare_object['bbox']\n",
    "            compare_class = compare_object['class_id']\n",
    "\n",
    "            compare_centroid = compare_object['centroid']\n",
    "\n",
    "            distance = get_distance(curr_centroid,compare_centroid)\n",
    "            # print(distance)\n",
    "\n",
    "            if distance < 150:\n",
    "\n",
    "                temp = main_img[y_min:y_max,x_min:x_max]\n",
    "                window = temp.copy()\n",
    "\n",
    "                black = np.count_nonzero(window == 0)\n",
    "                total = 150 * 150\n",
    "\n",
    "                compare_percentage_black = (black/total)*100\n",
    "\n",
    "                if compare_percentage_black + 1 <= curr_percentage_black:\n",
    "                    \n",
    "                    del modif_info[j]\n",
    "\n",
    "draw_img = colorized.copy()\n",
    "\n",
    "for i in modif_info.keys():\n",
    "    obj = modif_info[i]\n",
    "\n",
    "    xmin,xmax,ymin,ymax = obj['bbox']\n",
    "\n",
    "    draw_img = cv2.rectangle(draw_img, (xmin,ymin), (xmax,ymax), (0,225,0), 5)\n",
    "    cv2.putText(draw_img, str(i), (xmin, ymin-7), cv2.FONT_HERSHEY_SIMPLEX, 1.5, (0,225,0), 3)\n",
    "\n",
    "\n",
    "plt.figure(figsize=(15,30))\n",
    "plt.imshow(draw_img)\n",
    "plt.show()"
   ]
  },
  {
   "cell_type": "code",
   "execution_count": 19,
   "metadata": {
    "colab": {
     "base_uri": "https://localhost:8080/"
    },
    "id": "uI4CUQDEzzQu",
    "outputId": "4c987b1a-c239-4e14-9f34-db0bdab8d406"
   },
   "outputs": [
    {
     "data": {
      "text/plain": [
       "True"
      ]
     },
     "execution_count": 19,
     "metadata": {},
     "output_type": "execute_result"
    }
   ],
   "source": [
    "cv2.imwrite(\"./FINAL_P&ID.jpg\",draw_img)"
   ]
  },
  {
   "cell_type": "markdown",
   "metadata": {
    "id": "CI7kPFOz5T9x"
   },
   "source": [
    "Text Processing"
   ]
  },
  {
   "cell_type": "markdown",
   "metadata": {
    "id": "9jZnTxIJbtBk"
   },
   "source": [
    "MMOCR"
   ]
  },
  {
   "cell_type": "code",
   "execution_count": 20,
   "metadata": {
    "colab": {
     "base_uri": "https://localhost:8080/"
    },
    "id": "uHOlbID5gBP1",
    "outputId": "b32dd509-7c6b-47af-fc83-13b464b9303f"
   },
   "outputs": [
    {
     "name": "stdout",
     "output_type": "stream",
     "text": [
      "/Users/aneesh/Desktop/LTTS_Code\n"
     ]
    }
   ],
   "source": [
    "%cd .."
   ]
  },
  {
   "cell_type": "code",
   "execution_count": 21,
   "metadata": {
    "colab": {
     "base_uri": "https://localhost:8080/"
    },
    "id": "8hyz5cm0gK0P",
    "outputId": "6063103e-8000-4ff5-d313-282b08e48822"
   },
   "outputs": [
    {
     "name": "stdout",
     "output_type": "stream",
     "text": [
      "/Users/aneesh/Desktop/LTTS_Code/mmocr\n"
     ]
    }
   ],
   "source": [
    "%cd ./mmocr/"
   ]
  },
  {
   "cell_type": "code",
   "execution_count": 22,
   "metadata": {
    "id": "s9wAVip3gWXy"
   },
   "outputs": [],
   "source": [
    "from mmocr.utils.ocr import MMOCR"
   ]
  },
  {
   "cell_type": "code",
   "execution_count": 23,
   "metadata": {
    "colab": {
     "base_uri": "https://localhost:8080/",
     "height": 220,
     "referenced_widgets": [
      "2b7ab6742f214db994a391d183b6db64",
      "b428f0a7ed98414a8e2056458fd24810",
      "245efa2e37cf4196bcbd7f0f86825505",
      "c2a92fb28dee42298509ef573f7cf8ce",
      "8c59aa2e9a394c5980fdd8d6c018e14d",
      "5ff4b7fabddf45af8be5e5dd2228e888",
      "140d7c568911441897951cf6f24c2f34",
      "85065ddb50b14e25af406dbf86c33dff",
      "0e53a2a2ff1e4348bfe18a388fc941a6",
      "93ce3bbaaf644b539728d267499963af",
      "8334c219e72f46a6a9029b508821c27e",
      "b9113e42d57a4133a952f6add9cf5e0c",
      "8ba589bd271e4f27b220b351aa224822",
      "d77b3913be7042a2a106217562b25f02",
      "c8b257087c294218a2b98e977ebf0510",
      "f154739aa0224993a4882a360137735a",
      "43177202ba5248319babbe9cb59172ad",
      "0a9920a4fda541978d7437d084841ce4",
      "8179c511bdb24e04b5f5cf8ed62d3f6d",
      "13687fe7ef8044c2864934379f45735f",
      "c5b0f3ac08d14f8ab5c7d73590bcfa99",
      "b5955acf28aa4d17817e91d0c375ca5b"
     ]
    },
    "id": "SurvemXdcJ3I",
    "outputId": "cfded080-975e-4193-aba7-67b2f50d089b"
   },
   "outputs": [
    {
     "name": "stdout",
     "output_type": "stream",
     "text": [
      "load checkpoint from http path: https://download.openmmlab.com/mmocr/textdet/psenet/psenet_r50_fpnf_600e_ctw1500_20210401-216fed50.pth\n"
     ]
    },
    {
     "name": "stderr",
     "output_type": "stream",
     "text": [
      "/Users/aneesh/Desktop/LTTS_Code/mmocr/mmocr/apis/inference.py:50: UserWarning: Class names are not saved in the checkpoint's meta data, use COCO classes by default.\n",
      "  warnings.warn('Class names are not saved in the checkpoint\\'s '\n"
     ]
    },
    {
     "name": "stdout",
     "output_type": "stream",
     "text": [
      "load checkpoint from http path: https://download.openmmlab.com/mmocr/textrecog/sar/sar_r31_parallel_decoder_academic-dba3a4a3.pth\n"
     ]
    },
    {
     "name": "stderr",
     "output_type": "stream",
     "text": [
      "/Users/aneesh/Desktop/LTTS_Code/mmocr/mmocr/apis/inference.py:50: UserWarning: Class names are not saved in the checkpoint's meta data, use COCO classes by default.\n",
      "  warnings.warn('Class names are not saved in the checkpoint\\'s '\n"
     ]
    }
   ],
   "source": [
    "ocr = MMOCR(det='PS_CTW', recog='SAR')"
   ]
  },
  {
   "cell_type": "code",
   "execution_count": 24,
   "metadata": {},
   "outputs": [
    {
     "name": "stdout",
     "output_type": "stream",
     "text": [
      "Requirement already satisfied: imutils in /Users/aneesh/opt/anaconda3/envs/LTTS/lib/python3.7/site-packages (0.5.4)\r\n"
     ]
    }
   ],
   "source": [
    "!pip install imutils"
   ]
  },
  {
   "cell_type": "code",
   "execution_count": 25,
   "metadata": {
    "id": "LPBd07OMWCeV"
   },
   "outputs": [],
   "source": [
    "from imutils.object_detection import non_max_suppression"
   ]
  },
  {
   "cell_type": "code",
   "execution_count": 32,
   "metadata": {
    "colab": {
     "base_uri": "https://localhost:8080/"
    },
    "id": "Ib7axzOyVJ-_",
    "outputId": "47dc77de-a211-4145-c875-849828318bde"
   },
   "outputs": [],
   "source": [
    "def east_detect(image):\n",
    "    texts = [\"None\"]\n",
    "    layerNames = [\n",
    "    \t\"feature_fusion/Conv_7/Sigmoid\",\n",
    "    \t\"feature_fusion/concat_3\"]\n",
    "    \n",
    "    image = np.pad(image, ((30,30),(30,30)),\"constant\", constant_values=(225,225))\n",
    "\n",
    "    orig = image.copy()\n",
    "    \n",
    "    if len(image.shape) == 2:\n",
    "        image = cv2.cvtColor(image, cv2.COLOR_GRAY2RGB)\n",
    "    \n",
    "    (H, W) = image.shape[:2]\n",
    "\n",
    "    (newW, newH) = (160, 160)\n",
    "    \n",
    "    rW = W / float(newW)\n",
    "    rH = H / float(newH)\n",
    "\n",
    "    image = cv2.resize(image, (newW, newH))\n",
    "    \n",
    "    (H, W) = image.shape[:2]\n",
    "    \n",
    "    net = cv2.dnn.readNet(\"frozen_east_text_detection.pb\")\n",
    "    \n",
    "    blob = cv2.dnn.blobFromImage(image, 1.0, (W, H),\n",
    "    \t(123.68, 116.78, 103.94), swapRB=True, crop=False)\n",
    "    \n",
    "    start = time.time()\n",
    "    \n",
    "    net.setInput(blob)\n",
    "    \n",
    "    (scores, geometry) = net.forward(layerNames)\n",
    "    \n",
    "    (numRows, numCols) = scores.shape[2:4]\n",
    "    rects = []\n",
    "    confidences = []\n",
    "\n",
    "    for y in range(0, numRows):\n",
    "        scoresData = scores[0, 0, y]\n",
    "        xData0 = geometry[0, 0, y]\n",
    "        xData1 = geometry[0, 1, y]\n",
    "        xData2 = geometry[0, 2, y]\n",
    "        xData3 = geometry[0, 3, y]\n",
    "        anglesData = geometry[0, 4, y]\n",
    "    \n",
    "        for x in range(0, numCols):\n",
    "            if scoresData[x] < 0.5:\n",
    "                continue\n",
    "\n",
    "            (offsetX, offsetY) = (x * 4.0, y * 4.0)\n",
    "            angle = anglesData[x]\n",
    "            cos = np.cos(angle)\n",
    "            sin = np.sin(angle)\n",
    "            h = xData0[x] + xData2[x]\n",
    "            w = xData1[x] + xData3[x]\n",
    "            endX = int(offsetX + (cos * xData1[x]) + (sin * xData2[x]))\n",
    "            endY = int(offsetY - (sin * xData1[x]) + (cos * xData2[x]))\n",
    "            startX = int(endX - w)\n",
    "            startY = int(endY - h)\n",
    "            rects.append((startX, startY, endX, endY))\n",
    "            confidences.append(scoresData[x])\n",
    "                        \n",
    "    boxes = non_max_suppression(np.array(rects), probs=confidences)\n",
    "\n",
    "    if len(boxes) > 0:  \n",
    "      text_list = []\n",
    "      for (startX, startY, endX, endY) in boxes:\n",
    "        startX = int(startX * rW)\n",
    "        startY = int(startY * rH)\n",
    "        endX = int(endX * rW)\n",
    "        endY = int(endY * rH)\n",
    "\n",
    "        if startX-20 > 0:\n",
    "          startX = startX-20\n",
    "        if endX+20 < orig.shape[1]:\n",
    "          endX = endX+20\n",
    "        if startY-10 > 0:\n",
    "          startY = startY-10\n",
    "        if endY+10 < orig.shape[0]:\n",
    "          endY = endY+10\n",
    "\n",
    "        crop = orig[startY:endY, startX:endX]\n",
    "\n",
    "        # plt.imshow(crop)\n",
    "        # plt.show()\n",
    "\n",
    "        if (endX - startX) < (endY - startY):\n",
    "          crop = cv2.rotate(crop, cv2.ROTATE_90_CLOCKWISE)\n",
    "          crop = np.pad(crop, ((20,20),(20,20)),\"constant\", constant_values=(225,225))\n",
    "\n",
    "          region = cv2.cvtColor(crop,cv2.COLOR_GRAY2RGB)\n",
    "          cv2.imwrite('temp.jpg',region)\n",
    "\n",
    "          results = ocr.readtext('temp.jpg',print_result=False)\n",
    "\n",
    "          temp_dict = results[0]\n",
    "          texts = temp_dict['text']\n",
    "\n",
    "          break\n",
    "\n",
    "        else:\n",
    "          crop = np.pad(crop, ((20,20),(20,20)),\"constant\", constant_values=(225,225))\n",
    "          region = cv2.cvtColor(crop,cv2.COLOR_GRAY2RGB)\n",
    "\n",
    "          cv2.imwrite('temp.jpg',orig)\n",
    "\n",
    "          results = ocr.readtext('temp.jpg',print_result=False)\n",
    "\n",
    "          temp_dict = results[0]\n",
    "          texts = temp_dict['text']\n",
    "          break\n",
    "\n",
    "    return texts"
   ]
  },
  {
   "cell_type": "code",
   "execution_count": 33,
   "metadata": {
    "colab": {
     "base_uri": "https://localhost:8080/"
    },
    "id": "HhuI4q0FWYVd",
    "outputId": "99626e6a-d5f2-4313-f4e2-b1b85992b861"
   },
   "outputs": [],
   "source": [
    "final_dict = {}\n",
    "counter = 0\n",
    "\n",
    "text_img = colorized.copy()\n",
    "for i in modif_info.keys():\n",
    "\n",
    "    temp_dict = {}\n",
    "\n",
    "    obj = modif_info[i]\n",
    "    class_id = obj['class_id']\n",
    "    xmin,xmax,ymin,ymax = obj[\"bbox\"]\n",
    "\n",
    "    temp_dict['bounding_box'] = [xmin,xmax,ymin,ymax]\n",
    "    temp_dict['text'] = []\n",
    "    temp_dict['class_id'] = class_id\n",
    "    temp_dict['centroid'] = obj['centroid']\n",
    "\n",
    "    xmin,xmax,ymin,ymax = xmin-20,xmax+20,ymin-20,ymax+20\n",
    "\n",
    "    t = text_img[ymin:ymax,xmin:xmax]\n",
    "\n",
    "    if class_id == 3:\n",
    "\n",
    "\n",
    "        temp_dict['text'] = [\"Spectacle blind\"]\n",
    "\n",
    "    elif class_id == 5:\n",
    "\n",
    "        region = cv2.cvtColor(t,cv2.COLOR_GRAY2RGB)\n",
    "        \n",
    "        cv2.imwrite('temp.jpg',region)\n",
    "\n",
    "        results = ocr.readtext('temp.jpg',print_result=False)\n",
    "\n",
    "        temp_dict['text'] = results[0]['text']\n",
    "\n",
    "\n",
    "    else:\n",
    "        xmin,xmax,ymin,ymax = xmin-20,xmax+20,ymin-20,ymax+20\n",
    "\n",
    "        r = text_img[ymin:ymax,xmin:xmax]\n",
    "        text = east_detect(r)\n",
    "\n",
    "        temp_dict['text'] = text\n",
    "\n",
    "\n",
    "    final_dict[i] = temp_dict\n",
    "    counter+=1\n"
   ]
  },
  {
   "cell_type": "code",
   "execution_count": 34,
   "metadata": {
    "id": "WwMNER7Virep"
   },
   "outputs": [],
   "source": [
    "final_temp = final_dict.copy()\n",
    "for i in list(final_temp.keys()):\n",
    "\n",
    "    if i not in final_temp.keys():\n",
    "        continue\n",
    "\n",
    "    curr_object = final_temp[i]\n",
    "    curr_centroid = curr_object['centroid']\n",
    "\n",
    "    for j in list(final_temp.keys()):\n",
    "        \n",
    "        if j not in final_temp.keys():\n",
    "            continue\n",
    "\n",
    "        if i!=j:\n",
    "            compare_object = final_temp[j]\n",
    "            compare_centroid = compare_object['centroid']\n",
    "\n",
    "            distance = get_distance(curr_centroid,compare_centroid)\n",
    "\n",
    "            if distance < 50:\n",
    "                del final_temp[j]\n"
   ]
  },
  {
   "cell_type": "markdown",
   "metadata": {
    "id": "80smDiO24Yex"
   },
   "source": [
    "Post Processing of Outputs"
   ]
  },
  {
   "cell_type": "code",
   "execution_count": 35,
   "metadata": {
    "id": "dgtbCzzP5XtC"
   },
   "outputs": [],
   "source": [
    "def getAlphabetCount(x):\n",
    "    counter = 0\n",
    "\n",
    "    for i in x:\n",
    "        if i.isalpha() == True:\n",
    "            counter+=1\n",
    "    return counter"
   ]
  },
  {
   "cell_type": "code",
   "execution_count": 36,
   "metadata": {
    "id": "4RxDl-RZ4X87"
   },
   "outputs": [],
   "source": [
    "out_dict = {}\n",
    "\n",
    "for i in final_temp.keys():\n",
    "\n",
    "    obj = final_temp[i]\n",
    "    class_id = obj['class_id']\n",
    "    text_list = obj['text']\n",
    "\n",
    "    \n",
    "\n",
    "    item_label = \"Undefined\" # text ID of component\n",
    "    component_name = \"Undefined\" #Valve, instrument\n",
    "\n",
    "    if class_id == 0:\n",
    "        component_name = \"Valve\"\n",
    "        if text_list[0] != \"None\":\n",
    "\n",
    "            for j in text_list:\n",
    "\n",
    "                count = getAlphabetCount(j)\n",
    "\n",
    "                if len(j)>2 and count<4:\n",
    "                    item_label = j.upper()\n",
    "                    break\n",
    "                \n",
    "\n",
    "    if class_id == 1:\n",
    "        component_name = \"Control Valve\"\n",
    "        item_label = \"CV\"\n",
    "        if text_list[0] != \"None\":\n",
    "\n",
    "            for j in text_list:\n",
    "\n",
    "                count = getAlphabetCount(j)\n",
    "\n",
    "                if len(j)>2 and count<4:\n",
    "                    item_label = j.upper()\n",
    "                    break\n",
    "\n",
    "    if class_id == 2:\n",
    "        component_name = \"Circular looking\"\n",
    "\n",
    "        if text_list[0] != \"None\":\n",
    "\n",
    "            for j in text_list:\n",
    "\n",
    "                count = getAlphabetCount(j)\n",
    "\n",
    "                if len(j)>2 and count<4:\n",
    "                    item_label = j.upper()\n",
    "                    break\n",
    "\n",
    "    \n",
    "    if class_id == 3:\n",
    "        component_name = \"Spectacle Blind\"\n",
    "\n",
    "        if text_list[0] != \"None\":\n",
    "\n",
    "            for j in text_list:\n",
    "\n",
    "                count = getAlphabetCount(j)\n",
    "\n",
    "                if len(j)>2 and count<4:\n",
    "                    item_label = j.upper()\n",
    "                    break\n",
    "\n",
    "    if class_id ==4:\n",
    "        \n",
    "        if text_list[0] != \"None\":\n",
    "            \n",
    "            search = \"INS\"\n",
    "            for j in text_list:\n",
    "                if search in j:\n",
    "                    item_label = j.upper()\n",
    "                    break\n",
    "\n",
    "            if item_label == \"Undefined\":\n",
    "                item_label = \"CS\"\n",
    "                component_name = \"Inline Mixer/Filter\"\n",
    "\n",
    "    if class_id ==5:\n",
    "\n",
    "        component_name = \"Instrument\"\n",
    "\n",
    "        if text_list[0] != None:\n",
    "            \n",
    "            if len(text_list) > 1:\n",
    "\n",
    "                for x in range(len(text_list)-1):\n",
    "                    curr = text_list[x]\n",
    "                    next = text_list[x+1]\n",
    "\n",
    "                    count = getAlphabetCount(curr)\n",
    "\n",
    "                    if count>0:\n",
    "                        if next.isnumeric():\n",
    "                            item_label = curr+\";\"+next\n",
    "                            break\n",
    "\n",
    "            \n",
    "    temp_dict = {}\n",
    "\n",
    "    temp_dict['class_id'] = class_id\n",
    "    temp_dict['bounding_box'] = obj['bounding_box']\n",
    "    temp_dict['component_name'] = component_name\n",
    "    temp_dict['item_name'] = item_label\n",
    "\n",
    "    out_dict[i] = temp_dict\n"
   ]
  },
  {
   "cell_type": "code",
   "execution_count": 37,
   "metadata": {
    "id": "sHuofk3c_K82"
   },
   "outputs": [],
   "source": [
    "pd_dict = {\n",
    "\n",
    "    \"Object-ID\":[],\n",
    "    \"Class-ID\":[],\n",
    "    \"Component Name\":[],\n",
    "    \"Item Label\":[],\n",
    "    \"Location (xmin,xmax,ymin,ymax)\":[]\n",
    "\n",
    "}\n",
    "for i in out_dict.keys():\n",
    "    object_id = i\n",
    "    class_id = out_dict[i]['class_id']\n",
    "    component_name = out_dict[i]['component_name']\n",
    "    item_name = out_dict[i]['item_name']\n",
    "    bbox = out_dict[i]['bounding_box']\n",
    "    location = \"\".join(str(x)+\",\" for x in bbox)\n",
    "\n",
    "    pd_dict[\"Object-ID\"].append(object_id)\n",
    "    pd_dict[\"Class-ID\"].append(class_id)\n",
    "    pd_dict[\"Component Name\"].append(component_name)\n",
    "    pd_dict[\"Item Label\"].append(item_name)\n",
    "    pd_dict[\"Location (xmin,xmax,ymin,ymax)\"].append(location)"
   ]
  },
  {
   "cell_type": "code",
   "execution_count": 46,
   "metadata": {},
   "outputs": [
    {
     "name": "stdout",
     "output_type": "stream",
     "text": [
      "/Users/aneesh/Desktop/LTTS_Code\n",
      "/Users/aneesh/Desktop/LTTS_Code/main_driver\n"
     ]
    }
   ],
   "source": [
    "%cd ..\n",
    "%cd main_driver"
   ]
  },
  {
   "cell_type": "code",
   "execution_count": 47,
   "metadata": {
    "id": "1Y0ffmghAMLv"
   },
   "outputs": [],
   "source": [
    "import pandas as pd"
   ]
  },
  {
   "cell_type": "code",
   "execution_count": 48,
   "metadata": {
    "id": "ctzH6EC7AOk3"
   },
   "outputs": [],
   "source": [
    "df = pd.DataFrame(pd_dict)  "
   ]
  },
  {
   "cell_type": "code",
   "execution_count": 49,
   "metadata": {
    "id": "KTuhRykSAmwc"
   },
   "outputs": [],
   "source": [
    "df.to_excel('./FINAL_RESULT.xlsx')"
   ]
  },
  {
   "cell_type": "code",
   "execution_count": 50,
   "metadata": {
    "colab": {
     "base_uri": "https://localhost:8080/",
     "height": 35
    },
    "id": "_A3ZnErYMfkc",
    "outputId": "5546ff3d-caa0-4598-e5f3-06b139a6a437"
   },
   "outputs": [
    {
     "data": {
      "text/plain": [
       "'/Users/aneesh/Desktop/LTTS_Code/main_driver/3.zip'"
      ]
     },
     "execution_count": 50,
     "metadata": {},
     "output_type": "execute_result"
    }
   ],
   "source": [
    "name = os.path.basename(read_location)\n",
    "name = name.split(\".\")[0]\n",
    "folder = os.path.dirname(read_location)\n",
    "folder_name = folder+\"/\"+name\n",
    "\n",
    "if os.path.exists(folder+\"/temp\") == False:\n",
    "    os.makedirs(folder+\"/temp\")\n",
    "\n",
    "dst = folder+\"/temp\"\n",
    "source1 = folder+\"/FINAL_P&ID.jpg\"\n",
    "source2 = folder+\"/FINAL_RESULT.xlsx\"\n",
    "shutil.copy(source1, dst)\n",
    "shutil.copy(source2,dst)\n",
    "\n",
    "shutil.make_archive(folder_name,'zip',dst)"
   ]
  }
 ],
 "metadata": {
  "accelerator": "GPU",
  "colab": {
   "collapsed_sections": [],
   "name": "Testing Inverted LTTS P&ID Detection and Labelling System.ipynb",
   "provenance": []
  },
  "gpuClass": "standard",
  "kernelspec": {
   "display_name": "Python 3 (ipykernel)",
   "language": "python",
   "name": "python3"
  },
  "language_info": {
   "codemirror_mode": {
    "name": "ipython",
    "version": 3
   },
   "file_extension": ".py",
   "mimetype": "text/x-python",
   "name": "python",
   "nbconvert_exporter": "python",
   "pygments_lexer": "ipython3",
   "version": "3.7.13"
  },
  "widgets": {
   "application/vnd.jupyter.widget-state+json": {
    "0a9920a4fda541978d7437d084841ce4": {
     "model_module": "@jupyter-widgets/controls",
     "model_module_version": "1.5.0",
     "model_name": "DescriptionStyleModel",
     "state": {
      "_model_module": "@jupyter-widgets/controls",
      "_model_module_version": "1.5.0",
      "_model_name": "DescriptionStyleModel",
      "_view_count": null,
      "_view_module": "@jupyter-widgets/base",
      "_view_module_version": "1.2.0",
      "_view_name": "StyleView",
      "description_width": ""
     }
    },
    "0e53a2a2ff1e4348bfe18a388fc941a6": {
     "model_module": "@jupyter-widgets/controls",
     "model_module_version": "1.5.0",
     "model_name": "ProgressStyleModel",
     "state": {
      "_model_module": "@jupyter-widgets/controls",
      "_model_module_version": "1.5.0",
      "_model_name": "ProgressStyleModel",
      "_view_count": null,
      "_view_module": "@jupyter-widgets/base",
      "_view_module_version": "1.2.0",
      "_view_name": "StyleView",
      "bar_color": null,
      "description_width": ""
     }
    },
    "13687fe7ef8044c2864934379f45735f": {
     "model_module": "@jupyter-widgets/controls",
     "model_module_version": "1.5.0",
     "model_name": "ProgressStyleModel",
     "state": {
      "_model_module": "@jupyter-widgets/controls",
      "_model_module_version": "1.5.0",
      "_model_name": "ProgressStyleModel",
      "_view_count": null,
      "_view_module": "@jupyter-widgets/base",
      "_view_module_version": "1.2.0",
      "_view_name": "StyleView",
      "bar_color": null,
      "description_width": ""
     }
    },
    "140d7c568911441897951cf6f24c2f34": {
     "model_module": "@jupyter-widgets/controls",
     "model_module_version": "1.5.0",
     "model_name": "DescriptionStyleModel",
     "state": {
      "_model_module": "@jupyter-widgets/controls",
      "_model_module_version": "1.5.0",
      "_model_name": "DescriptionStyleModel",
      "_view_count": null,
      "_view_module": "@jupyter-widgets/base",
      "_view_module_version": "1.2.0",
      "_view_name": "StyleView",
      "description_width": ""
     }
    },
    "245efa2e37cf4196bcbd7f0f86825505": {
     "model_module": "@jupyter-widgets/controls",
     "model_module_version": "1.5.0",
     "model_name": "FloatProgressModel",
     "state": {
      "_dom_classes": [],
      "_model_module": "@jupyter-widgets/controls",
      "_model_module_version": "1.5.0",
      "_model_name": "FloatProgressModel",
      "_view_count": null,
      "_view_module": "@jupyter-widgets/controls",
      "_view_module_version": "1.5.0",
      "_view_name": "ProgressView",
      "bar_style": "success",
      "description": "",
      "description_tooltip": null,
      "layout": "IPY_MODEL_85065ddb50b14e25af406dbf86c33dff",
      "max": 114790078,
      "min": 0,
      "orientation": "horizontal",
      "style": "IPY_MODEL_0e53a2a2ff1e4348bfe18a388fc941a6",
      "value": 114790078
     }
    },
    "2b7ab6742f214db994a391d183b6db64": {
     "model_module": "@jupyter-widgets/controls",
     "model_module_version": "1.5.0",
     "model_name": "HBoxModel",
     "state": {
      "_dom_classes": [],
      "_model_module": "@jupyter-widgets/controls",
      "_model_module_version": "1.5.0",
      "_model_name": "HBoxModel",
      "_view_count": null,
      "_view_module": "@jupyter-widgets/controls",
      "_view_module_version": "1.5.0",
      "_view_name": "HBoxView",
      "box_style": "",
      "children": [
       "IPY_MODEL_b428f0a7ed98414a8e2056458fd24810",
       "IPY_MODEL_245efa2e37cf4196bcbd7f0f86825505",
       "IPY_MODEL_c2a92fb28dee42298509ef573f7cf8ce"
      ],
      "layout": "IPY_MODEL_8c59aa2e9a394c5980fdd8d6c018e14d"
     }
    },
    "43177202ba5248319babbe9cb59172ad": {
     "model_module": "@jupyter-widgets/base",
     "model_module_version": "1.2.0",
     "model_name": "LayoutModel",
     "state": {
      "_model_module": "@jupyter-widgets/base",
      "_model_module_version": "1.2.0",
      "_model_name": "LayoutModel",
      "_view_count": null,
      "_view_module": "@jupyter-widgets/base",
      "_view_module_version": "1.2.0",
      "_view_name": "LayoutView",
      "align_content": null,
      "align_items": null,
      "align_self": null,
      "border": null,
      "bottom": null,
      "display": null,
      "flex": null,
      "flex_flow": null,
      "grid_area": null,
      "grid_auto_columns": null,
      "grid_auto_flow": null,
      "grid_auto_rows": null,
      "grid_column": null,
      "grid_gap": null,
      "grid_row": null,
      "grid_template_areas": null,
      "grid_template_columns": null,
      "grid_template_rows": null,
      "height": null,
      "justify_content": null,
      "justify_items": null,
      "left": null,
      "margin": null,
      "max_height": null,
      "max_width": null,
      "min_height": null,
      "min_width": null,
      "object_fit": null,
      "object_position": null,
      "order": null,
      "overflow": null,
      "overflow_x": null,
      "overflow_y": null,
      "padding": null,
      "right": null,
      "top": null,
      "visibility": null,
      "width": null
     }
    },
    "5ff4b7fabddf45af8be5e5dd2228e888": {
     "model_module": "@jupyter-widgets/base",
     "model_module_version": "1.2.0",
     "model_name": "LayoutModel",
     "state": {
      "_model_module": "@jupyter-widgets/base",
      "_model_module_version": "1.2.0",
      "_model_name": "LayoutModel",
      "_view_count": null,
      "_view_module": "@jupyter-widgets/base",
      "_view_module_version": "1.2.0",
      "_view_name": "LayoutView",
      "align_content": null,
      "align_items": null,
      "align_self": null,
      "border": null,
      "bottom": null,
      "display": null,
      "flex": null,
      "flex_flow": null,
      "grid_area": null,
      "grid_auto_columns": null,
      "grid_auto_flow": null,
      "grid_auto_rows": null,
      "grid_column": null,
      "grid_gap": null,
      "grid_row": null,
      "grid_template_areas": null,
      "grid_template_columns": null,
      "grid_template_rows": null,
      "height": null,
      "justify_content": null,
      "justify_items": null,
      "left": null,
      "margin": null,
      "max_height": null,
      "max_width": null,
      "min_height": null,
      "min_width": null,
      "object_fit": null,
      "object_position": null,
      "order": null,
      "overflow": null,
      "overflow_x": null,
      "overflow_y": null,
      "padding": null,
      "right": null,
      "top": null,
      "visibility": null,
      "width": null
     }
    },
    "8179c511bdb24e04b5f5cf8ed62d3f6d": {
     "model_module": "@jupyter-widgets/base",
     "model_module_version": "1.2.0",
     "model_name": "LayoutModel",
     "state": {
      "_model_module": "@jupyter-widgets/base",
      "_model_module_version": "1.2.0",
      "_model_name": "LayoutModel",
      "_view_count": null,
      "_view_module": "@jupyter-widgets/base",
      "_view_module_version": "1.2.0",
      "_view_name": "LayoutView",
      "align_content": null,
      "align_items": null,
      "align_self": null,
      "border": null,
      "bottom": null,
      "display": null,
      "flex": null,
      "flex_flow": null,
      "grid_area": null,
      "grid_auto_columns": null,
      "grid_auto_flow": null,
      "grid_auto_rows": null,
      "grid_column": null,
      "grid_gap": null,
      "grid_row": null,
      "grid_template_areas": null,
      "grid_template_columns": null,
      "grid_template_rows": null,
      "height": null,
      "justify_content": null,
      "justify_items": null,
      "left": null,
      "margin": null,
      "max_height": null,
      "max_width": null,
      "min_height": null,
      "min_width": null,
      "object_fit": null,
      "object_position": null,
      "order": null,
      "overflow": null,
      "overflow_x": null,
      "overflow_y": null,
      "padding": null,
      "right": null,
      "top": null,
      "visibility": null,
      "width": null
     }
    },
    "8334c219e72f46a6a9029b508821c27e": {
     "model_module": "@jupyter-widgets/controls",
     "model_module_version": "1.5.0",
     "model_name": "DescriptionStyleModel",
     "state": {
      "_model_module": "@jupyter-widgets/controls",
      "_model_module_version": "1.5.0",
      "_model_name": "DescriptionStyleModel",
      "_view_count": null,
      "_view_module": "@jupyter-widgets/base",
      "_view_module_version": "1.2.0",
      "_view_name": "StyleView",
      "description_width": ""
     }
    },
    "85065ddb50b14e25af406dbf86c33dff": {
     "model_module": "@jupyter-widgets/base",
     "model_module_version": "1.2.0",
     "model_name": "LayoutModel",
     "state": {
      "_model_module": "@jupyter-widgets/base",
      "_model_module_version": "1.2.0",
      "_model_name": "LayoutModel",
      "_view_count": null,
      "_view_module": "@jupyter-widgets/base",
      "_view_module_version": "1.2.0",
      "_view_name": "LayoutView",
      "align_content": null,
      "align_items": null,
      "align_self": null,
      "border": null,
      "bottom": null,
      "display": null,
      "flex": null,
      "flex_flow": null,
      "grid_area": null,
      "grid_auto_columns": null,
      "grid_auto_flow": null,
      "grid_auto_rows": null,
      "grid_column": null,
      "grid_gap": null,
      "grid_row": null,
      "grid_template_areas": null,
      "grid_template_columns": null,
      "grid_template_rows": null,
      "height": null,
      "justify_content": null,
      "justify_items": null,
      "left": null,
      "margin": null,
      "max_height": null,
      "max_width": null,
      "min_height": null,
      "min_width": null,
      "object_fit": null,
      "object_position": null,
      "order": null,
      "overflow": null,
      "overflow_x": null,
      "overflow_y": null,
      "padding": null,
      "right": null,
      "top": null,
      "visibility": null,
      "width": null
     }
    },
    "8ba589bd271e4f27b220b351aa224822": {
     "model_module": "@jupyter-widgets/controls",
     "model_module_version": "1.5.0",
     "model_name": "HTMLModel",
     "state": {
      "_dom_classes": [],
      "_model_module": "@jupyter-widgets/controls",
      "_model_module_version": "1.5.0",
      "_model_name": "HTMLModel",
      "_view_count": null,
      "_view_module": "@jupyter-widgets/controls",
      "_view_module_version": "1.5.0",
      "_view_name": "HTMLView",
      "description": "",
      "description_tooltip": null,
      "layout": "IPY_MODEL_43177202ba5248319babbe9cb59172ad",
      "placeholder": "​",
      "style": "IPY_MODEL_0a9920a4fda541978d7437d084841ce4",
      "value": "100%"
     }
    },
    "8c59aa2e9a394c5980fdd8d6c018e14d": {
     "model_module": "@jupyter-widgets/base",
     "model_module_version": "1.2.0",
     "model_name": "LayoutModel",
     "state": {
      "_model_module": "@jupyter-widgets/base",
      "_model_module_version": "1.2.0",
      "_model_name": "LayoutModel",
      "_view_count": null,
      "_view_module": "@jupyter-widgets/base",
      "_view_module_version": "1.2.0",
      "_view_name": "LayoutView",
      "align_content": null,
      "align_items": null,
      "align_self": null,
      "border": null,
      "bottom": null,
      "display": null,
      "flex": null,
      "flex_flow": null,
      "grid_area": null,
      "grid_auto_columns": null,
      "grid_auto_flow": null,
      "grid_auto_rows": null,
      "grid_column": null,
      "grid_gap": null,
      "grid_row": null,
      "grid_template_areas": null,
      "grid_template_columns": null,
      "grid_template_rows": null,
      "height": null,
      "justify_content": null,
      "justify_items": null,
      "left": null,
      "margin": null,
      "max_height": null,
      "max_width": null,
      "min_height": null,
      "min_width": null,
      "object_fit": null,
      "object_position": null,
      "order": null,
      "overflow": null,
      "overflow_x": null,
      "overflow_y": null,
      "padding": null,
      "right": null,
      "top": null,
      "visibility": null,
      "width": null
     }
    },
    "93ce3bbaaf644b539728d267499963af": {
     "model_module": "@jupyter-widgets/base",
     "model_module_version": "1.2.0",
     "model_name": "LayoutModel",
     "state": {
      "_model_module": "@jupyter-widgets/base",
      "_model_module_version": "1.2.0",
      "_model_name": "LayoutModel",
      "_view_count": null,
      "_view_module": "@jupyter-widgets/base",
      "_view_module_version": "1.2.0",
      "_view_name": "LayoutView",
      "align_content": null,
      "align_items": null,
      "align_self": null,
      "border": null,
      "bottom": null,
      "display": null,
      "flex": null,
      "flex_flow": null,
      "grid_area": null,
      "grid_auto_columns": null,
      "grid_auto_flow": null,
      "grid_auto_rows": null,
      "grid_column": null,
      "grid_gap": null,
      "grid_row": null,
      "grid_template_areas": null,
      "grid_template_columns": null,
      "grid_template_rows": null,
      "height": null,
      "justify_content": null,
      "justify_items": null,
      "left": null,
      "margin": null,
      "max_height": null,
      "max_width": null,
      "min_height": null,
      "min_width": null,
      "object_fit": null,
      "object_position": null,
      "order": null,
      "overflow": null,
      "overflow_x": null,
      "overflow_y": null,
      "padding": null,
      "right": null,
      "top": null,
      "visibility": null,
      "width": null
     }
    },
    "b428f0a7ed98414a8e2056458fd24810": {
     "model_module": "@jupyter-widgets/controls",
     "model_module_version": "1.5.0",
     "model_name": "HTMLModel",
     "state": {
      "_dom_classes": [],
      "_model_module": "@jupyter-widgets/controls",
      "_model_module_version": "1.5.0",
      "_model_name": "HTMLModel",
      "_view_count": null,
      "_view_module": "@jupyter-widgets/controls",
      "_view_module_version": "1.5.0",
      "_view_name": "HTMLView",
      "description": "",
      "description_tooltip": null,
      "layout": "IPY_MODEL_5ff4b7fabddf45af8be5e5dd2228e888",
      "placeholder": "​",
      "style": "IPY_MODEL_140d7c568911441897951cf6f24c2f34",
      "value": "100%"
     }
    },
    "b5955acf28aa4d17817e91d0c375ca5b": {
     "model_module": "@jupyter-widgets/controls",
     "model_module_version": "1.5.0",
     "model_name": "DescriptionStyleModel",
     "state": {
      "_model_module": "@jupyter-widgets/controls",
      "_model_module_version": "1.5.0",
      "_model_name": "DescriptionStyleModel",
      "_view_count": null,
      "_view_module": "@jupyter-widgets/base",
      "_view_module_version": "1.2.0",
      "_view_name": "StyleView",
      "description_width": ""
     }
    },
    "b9113e42d57a4133a952f6add9cf5e0c": {
     "model_module": "@jupyter-widgets/controls",
     "model_module_version": "1.5.0",
     "model_name": "HBoxModel",
     "state": {
      "_dom_classes": [],
      "_model_module": "@jupyter-widgets/controls",
      "_model_module_version": "1.5.0",
      "_model_name": "HBoxModel",
      "_view_count": null,
      "_view_module": "@jupyter-widgets/controls",
      "_view_module_version": "1.5.0",
      "_view_name": "HBoxView",
      "box_style": "",
      "children": [
       "IPY_MODEL_8ba589bd271e4f27b220b351aa224822",
       "IPY_MODEL_d77b3913be7042a2a106217562b25f02",
       "IPY_MODEL_c8b257087c294218a2b98e977ebf0510"
      ],
      "layout": "IPY_MODEL_f154739aa0224993a4882a360137735a"
     }
    },
    "c2a92fb28dee42298509ef573f7cf8ce": {
     "model_module": "@jupyter-widgets/controls",
     "model_module_version": "1.5.0",
     "model_name": "HTMLModel",
     "state": {
      "_dom_classes": [],
      "_model_module": "@jupyter-widgets/controls",
      "_model_module_version": "1.5.0",
      "_model_name": "HTMLModel",
      "_view_count": null,
      "_view_module": "@jupyter-widgets/controls",
      "_view_module_version": "1.5.0",
      "_view_name": "HTMLView",
      "description": "",
      "description_tooltip": null,
      "layout": "IPY_MODEL_93ce3bbaaf644b539728d267499963af",
      "placeholder": "​",
      "style": "IPY_MODEL_8334c219e72f46a6a9029b508821c27e",
      "value": " 109M/109M [00:11&lt;00:00, 9.53MB/s]"
     }
    },
    "c5b0f3ac08d14f8ab5c7d73590bcfa99": {
     "model_module": "@jupyter-widgets/base",
     "model_module_version": "1.2.0",
     "model_name": "LayoutModel",
     "state": {
      "_model_module": "@jupyter-widgets/base",
      "_model_module_version": "1.2.0",
      "_model_name": "LayoutModel",
      "_view_count": null,
      "_view_module": "@jupyter-widgets/base",
      "_view_module_version": "1.2.0",
      "_view_name": "LayoutView",
      "align_content": null,
      "align_items": null,
      "align_self": null,
      "border": null,
      "bottom": null,
      "display": null,
      "flex": null,
      "flex_flow": null,
      "grid_area": null,
      "grid_auto_columns": null,
      "grid_auto_flow": null,
      "grid_auto_rows": null,
      "grid_column": null,
      "grid_gap": null,
      "grid_row": null,
      "grid_template_areas": null,
      "grid_template_columns": null,
      "grid_template_rows": null,
      "height": null,
      "justify_content": null,
      "justify_items": null,
      "left": null,
      "margin": null,
      "max_height": null,
      "max_width": null,
      "min_height": null,
      "min_width": null,
      "object_fit": null,
      "object_position": null,
      "order": null,
      "overflow": null,
      "overflow_x": null,
      "overflow_y": null,
      "padding": null,
      "right": null,
      "top": null,
      "visibility": null,
      "width": null
     }
    },
    "c8b257087c294218a2b98e977ebf0510": {
     "model_module": "@jupyter-widgets/controls",
     "model_module_version": "1.5.0",
     "model_name": "HTMLModel",
     "state": {
      "_dom_classes": [],
      "_model_module": "@jupyter-widgets/controls",
      "_model_module_version": "1.5.0",
      "_model_name": "HTMLModel",
      "_view_count": null,
      "_view_module": "@jupyter-widgets/controls",
      "_view_module_version": "1.5.0",
      "_view_name": "HTMLView",
      "description": "",
      "description_tooltip": null,
      "layout": "IPY_MODEL_c5b0f3ac08d14f8ab5c7d73590bcfa99",
      "placeholder": "​",
      "style": "IPY_MODEL_b5955acf28aa4d17817e91d0c375ca5b",
      "value": " 219M/219M [00:18&lt;00:00, 8.51MB/s]"
     }
    },
    "d77b3913be7042a2a106217562b25f02": {
     "model_module": "@jupyter-widgets/controls",
     "model_module_version": "1.5.0",
     "model_name": "FloatProgressModel",
     "state": {
      "_dom_classes": [],
      "_model_module": "@jupyter-widgets/controls",
      "_model_module_version": "1.5.0",
      "_model_name": "FloatProgressModel",
      "_view_count": null,
      "_view_module": "@jupyter-widgets/controls",
      "_view_module_version": "1.5.0",
      "_view_name": "ProgressView",
      "bar_style": "success",
      "description": "",
      "description_tooltip": null,
      "layout": "IPY_MODEL_8179c511bdb24e04b5f5cf8ed62d3f6d",
      "max": 229956710,
      "min": 0,
      "orientation": "horizontal",
      "style": "IPY_MODEL_13687fe7ef8044c2864934379f45735f",
      "value": 229956710
     }
    },
    "f154739aa0224993a4882a360137735a": {
     "model_module": "@jupyter-widgets/base",
     "model_module_version": "1.2.0",
     "model_name": "LayoutModel",
     "state": {
      "_model_module": "@jupyter-widgets/base",
      "_model_module_version": "1.2.0",
      "_model_name": "LayoutModel",
      "_view_count": null,
      "_view_module": "@jupyter-widgets/base",
      "_view_module_version": "1.2.0",
      "_view_name": "LayoutView",
      "align_content": null,
      "align_items": null,
      "align_self": null,
      "border": null,
      "bottom": null,
      "display": null,
      "flex": null,
      "flex_flow": null,
      "grid_area": null,
      "grid_auto_columns": null,
      "grid_auto_flow": null,
      "grid_auto_rows": null,
      "grid_column": null,
      "grid_gap": null,
      "grid_row": null,
      "grid_template_areas": null,
      "grid_template_columns": null,
      "grid_template_rows": null,
      "height": null,
      "justify_content": null,
      "justify_items": null,
      "left": null,
      "margin": null,
      "max_height": null,
      "max_width": null,
      "min_height": null,
      "min_width": null,
      "object_fit": null,
      "object_position": null,
      "order": null,
      "overflow": null,
      "overflow_x": null,
      "overflow_y": null,
      "padding": null,
      "right": null,
      "top": null,
      "visibility": null,
      "width": null
     }
    }
   }
  }
 },
 "nbformat": 4,
 "nbformat_minor": 1
}
