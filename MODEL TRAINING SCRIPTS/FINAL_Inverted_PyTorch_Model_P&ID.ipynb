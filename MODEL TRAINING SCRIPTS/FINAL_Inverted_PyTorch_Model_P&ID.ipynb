{
 "cells": [
  {
   "cell_type": "code",
   "execution_count": null,
   "metadata": {
    "id": "EOhqL0tAi5Xj"
   },
   "outputs": [],
   "source": [
    "import torch\n",
    "import torch.nn as nn  \n",
    "import torch.optim as optim \n",
    "import torchvision.transforms as transforms \n",
    "import torch.nn.functional as F\n",
    "import torchvision\n",
    "import os\n",
    "import pandas as pd\n",
    "from skimage import io\n",
    "from torch.utils.data import (\n",
    "    Dataset,\n",
    "    DataLoader,\n",
    ") \n"
   ]
  },
  {
   "cell_type": "code",
   "execution_count": null,
   "metadata": {
    "id": "rVuCHdcFbWxG"
   },
   "outputs": [],
   "source": [
    "from torch.nn.modules.batchnorm import BatchNorm1d\n",
    "\n",
    "class FCN(nn.Module):\n",
    "    def __init__(self,in_channels = 1,num_classes=7):\n",
    "        super(FCN,self).__init__()\n",
    "        self.conv1 = nn.Sequential(\n",
    "            nn.Conv2d(in_channels=1, out_channels=32, kernel_size=(3,3), stride=(1,1), padding=(1,1)),\n",
    "            nn.BatchNorm2d(32, momentum=0.01),\n",
    "            nn.ReLU(inplace=True),\n",
    "            nn.Conv2d(in_channels=32, out_channels=32, kernel_size=(3,3), stride=(1,1), padding=(1,1)),\n",
    "            nn.MaxPool2d(kernel_size=2),\n",
    "        )\n",
    "        self.conv2 = nn.Sequential(\n",
    "            nn.Conv2d(in_channels=32, out_channels=64, kernel_size=(3,3), stride=(1,1), padding=(1,1)),\n",
    "            nn.BatchNorm2d(64, momentum=0.01),\n",
    "            nn.ReLU(inplace=True),\n",
    "            nn.Conv2d(in_channels=64, out_channels=64, kernel_size=(3,3), stride=(1,1), padding=(1,1)),\n",
    "            nn.MaxPool2d(kernel_size=2),\n",
    "        )\n",
    "        self.conv3 = nn.Sequential(\n",
    "            nn.Conv2d(in_channels=64, out_channels=64, kernel_size=(3,3), stride=(1,1), padding=(1,1)),\n",
    "            nn.BatchNorm2d(64, momentum=0.01),\n",
    "            nn.ReLU(inplace=True),\n",
    "            nn.Conv2d(in_channels=64, out_channels=64, kernel_size=(3,3), stride=(1,1), padding=(1,1)),\n",
    "            nn.MaxPool2d(kernel_size=2),\n",
    "        )\n",
    "        self.fc1 = nn.Sequential(\n",
    "            nn.Linear(20736,256),\n",
    "            nn.ReLU(inplace=True),\n",
    "            nn.Dropout(p=0.25),\n",
    "            nn.BatchNorm1d(256)\n",
    "        )\n",
    "        self.fc2 = nn.Sequential(\n",
    "            nn.Linear(256,128),\n",
    "            nn.ReLU(inplace=True),\n",
    "            nn.Dropout(p=0.25),\n",
    "            nn.BatchNorm1d(128)\n",
    "        )\n",
    "        self.fc3 = nn.Sequential(\n",
    "            nn.Linear(128,64),\n",
    "            nn.ReLU(inplace=True),\n",
    "            nn.Dropout(p=0.25),\n",
    "            nn.BatchNorm1d(64)\n",
    "        )\n",
    "        self.fc4 = nn.Linear(64,7)\n",
    "\n",
    "    def forward(self,x):\n",
    "        x = self.conv1(x)\n",
    "        x = self.conv2(x)\n",
    "        x = self.conv3(x)\n",
    "        x = x.reshape(x.shape[0],-1)\n",
    "        x = self.fc1(x)\n",
    "        x = self.fc2(x)\n",
    "        x = self.fc3(x)\n",
    "        x = F.softmax(self.fc4(x),dim=1)\n",
    "        return x"
   ]
  },
  {
   "cell_type": "code",
   "execution_count": null,
   "metadata": {
    "colab": {
     "base_uri": "https://localhost:8080/"
    },
    "id": "EPcyPYPenjM3",
    "outputId": "d885ea7f-9ff6-4299-d79e-d6c57c0b07ec"
   },
   "outputs": [],
   "source": [
    "model = FCN()\n",
    "if torch.cuda.is_available():\n",
    "    model.cuda()"
   ]
  },
  {
   "cell_type": "code",
   "execution_count": null,
   "metadata": {
    "id": "KsW08MnFpE0X"
   },
   "outputs": [],
   "source": [
    "device = torch.device('cuda' if torch.cuda.is_available() else 'cpu')"
   ]
  },
  {
   "cell_type": "code",
   "execution_count": null,
   "metadata": {
    "colab": {
     "base_uri": "https://localhost:8080/"
    },
    "id": "hArr3J9FrVjx",
    "outputId": "2d281026-a742-4986-8e2f-6b756070a2b8"
   },
   "outputs": [],
   "source": [
    "device"
   ]
  },
  {
   "cell_type": "code",
   "execution_count": null,
   "metadata": {
    "id": "dvPTGhCq5q17"
   },
   "outputs": [],
   "source": [
    "if torch.cuda.is_available():\n",
    "    model.cuda()"
   ]
  },
  {
   "cell_type": "code",
   "execution_count": null,
   "metadata": {
    "id": "yK5aP8r1vfPy"
   },
   "outputs": [],
   "source": [
    "import shutil"
   ]
  },
  {
   "cell_type": "code",
   "execution_count": null,
   "metadata": {
    "id": "lkHrdlKKtIw6"
   },
   "outputs": [],
   "source": [
    "# Data Loading\n",
    "path = './Augmented_inverted.zip'\n",
    "shutil.unpack_archive(path,'./dataset')\n",
    "\n",
    "path = './testing_inverted.zip'\n",
    "shutil.unpack_archive(path,'./testing_dataset')"
   ]
  },
  {
   "cell_type": "code",
   "execution_count": null,
   "metadata": {
    "id": "nSPo4d8kvquX"
   },
   "outputs": [],
   "source": [
    "import cv2\n",
    "import matplotlib.pyplot as plt"
   ]
  },
  {
   "cell_type": "code",
   "execution_count": null,
   "metadata": {
    "id": "rkp2gtJewEje"
   },
   "outputs": [],
   "source": [
    "from torchvision.datasets import ImageFolder\n",
    "from torch.utils.data import DataLoader, random_split\n",
    "from torchvision import transforms\n",
    "from PIL import Image\n",
    "import numpy as np"
   ]
  },
  {
   "cell_type": "code",
   "execution_count": null,
   "metadata": {
    "id": "I2YnULJ3wym3"
   },
   "outputs": [],
   "source": [
    "data_transform = transforms.Compose([\n",
    "                                     transforms.Grayscale(num_output_channels=1),\n",
    "                                     transforms.Lambda(lambda x:torch.from_numpy(np.expand_dims(np.array(x),axis=0)).float())\n",
    "                                ])"
   ]
  },
  {
   "cell_type": "code",
   "execution_count": null,
   "metadata": {
    "id": "A2xuefiqzM79"
   },
   "outputs": [],
   "source": [
    "root = './dataset'\n",
    "train_dataset = ImageFolder(root, transform=data_transform)\n",
    "test_dataset = ImageFolder(\"./testing_dataset\", transform=data_transform)\n",
    "\n",
    "# Split test and train dataset \n",
    "\n",
    "train_size = int(0.9 * len(train_dataset))\n",
    "test_size = len(train_dataset) - train_size\n",
    "train_data, test_data = random_split(train_dataset, [train_size, test_size])\n",
    "\n",
    "\n",
    "# Set batch size of train data loader\n",
    "batch_size_train = 64\n",
    "\n",
    "# Set batch size of test data loader\n",
    "batch_size_test = 64\n",
    "\n",
    "# load the split train and test data into batches via DataLoader()\n",
    "train_loader = DataLoader(train_data, batch_size=batch_size_train, shuffle=True)\n",
    "test_loader = DataLoader(test_dataset, batch_size=batch_size_test, shuffle=True)"
   ]
  },
  {
   "cell_type": "code",
   "execution_count": null,
   "metadata": {
    "colab": {
     "base_uri": "https://localhost:8080/"
    },
    "id": "BV9QIBNgqbU4",
    "outputId": "00d82cc2-68a0-4f62-ab85-db5b0fb74e82"
   },
   "outputs": [],
   "source": [
    "# Train loop\n",
    "\n",
    "in_channels = 1\n",
    "num_classes = 8\n",
    "learning_rate = 0.01\n",
    "batch_size = 64\n",
    "num_epochs = 25\n",
    "\n",
    "data_transform = transforms.Compose([\n",
    "                                transforms.Grayscale(num_output_channels=1),\n",
    "                                transforms.Lambda(lambda x:torch.tensor(np.expand_dims(np.array(x),axis=0))),\n",
    "                                transforms.RandomRotation(degrees=90),\n",
    "                                ])\n",
    "\n",
    "criterion = nn.CrossEntropyLoss()\n",
    "optimizer = optim.Adam(model.parameters(),lr = learning_rate)\n",
    "\n",
    "model.train()\n",
    "for epoch in range(num_epochs):\n",
    "    correct = 0\n",
    "    for batch_idx, (data,targets) in enumerate(train_loader):\n",
    "\n",
    "        data = data.to(device=device)\n",
    "        targets = targets.to(device=device)\n",
    "        score = model(data)\n",
    "        loss = criterion(score,targets)\n",
    "        optimizer.zero_grad() \n",
    "        loss.backward() \n",
    "        optimizer.step()\n",
    "        \n",
    "    _, predicted = torch.max(score.data, 1)\n",
    "    correct += (predicted == targets).float().sum()\n",
    "    accuracy = 100 * correct / len(targets)\n",
    "    print(\"Epoch = {}, Accuracy = {}\".format(epoch,accuracy))\n",
    "\n",
    "data_transform = transforms.Compose([\n",
    "                                transforms.Grayscale(num_output_channels=1),\n",
    "                                transforms.Lambda(lambda x:torch.tensor(np.expand_dims(np.array(x),axis=0))),\n",
    "                                transforms.RandomRotation(degrees=90),\n",
    "                                ])\n",
    "\n",
    "\n",
    "in_channels = 1\n",
    "num_classes = 8\n",
    "learning_rate = 0.005\n",
    "batch_size = 64\n",
    "num_epochs = 25\n",
    "\n",
    "criterion = nn.CrossEntropyLoss()\n",
    "optimizer = optim.Adam(model.parameters(),lr = learning_rate)\n",
    "\n",
    "model.train()\n",
    "for epoch in range(num_epochs):\n",
    "    correct = 0\n",
    "    for batch_idx, (data,targets) in enumerate(train_loader):\n",
    "\n",
    "        data = data.to(device=device)\n",
    "        targets = targets.to(device=device)\n",
    "        score = model(data)\n",
    "        loss = criterion(score,targets)\n",
    "        optimizer.zero_grad()\n",
    "        loss.backward()\n",
    "        optimizer.step()\n",
    "\n",
    "    _, predicted = torch.max(score.data, 1)\n",
    "    correct += (predicted == targets).float().sum()\n",
    "    accuracy = 100 * correct / len(targets)\n",
    "    print(\"Epoch = {}, Accuracy = {}\".format(epoch,accuracy))\n",
    "\n",
    "data_transform = transforms.Compose([\n",
    "                                    transforms.Grayscale(num_output_channels=1),\n",
    "                                    transforms.Lambda(lambda x:torch.tensor(np.expand_dims(np.array(x),axis=0))),\n",
    "                                ])\n",
    "\n",
    "in_channels = 1\n",
    "num_classes = 8\n",
    "learning_rate = 0.001\n",
    "batch_size = 64\n",
    "num_epochs = 25\n",
    "\n",
    "criterion = nn.CrossEntropyLoss()\n",
    "optimizer = optim.Adam(model.parameters(),lr = learning_rate)\n",
    "\n",
    "for epoch in range(num_epochs):\n",
    "    correct = 0\n",
    "    for batch_idx, (data,targets) in enumerate(train_loader):\n",
    "\n",
    "        data = data.to(device=device)\n",
    "        targets = targets.to(device=device)\n",
    "        score = model(data)\n",
    "        loss = criterion(score,targets)\n",
    "        optimizer.zero_grad()\n",
    "        loss.backward()\n",
    "        optimizer.step()\n",
    "\n",
    "    _, predicted = torch.max(score.data, 1)\n",
    "    correct += (predicted == targets).float().sum()\n",
    "    accuracy = 100 * correct / len(targets)\n",
    "    print(\"Epoch = {}, Accuracy = {}\".format(epoch,accuracy))\n",
    "\n",
    "in_channels = 1\n",
    "num_classes = 8\n",
    "learning_rate = 0.0005\n",
    "batch_size = 64\n",
    "num_epochs = 25\n",
    "\n",
    "criterion = nn.CrossEntropyLoss()\n",
    "optimizer = optim.Adam(model.parameters(),lr = learning_rate)\n",
    "\n",
    "for epoch in range(num_epochs):\n",
    "    correct = 0\n",
    "    for batch_idx, (data,targets) in enumerate(train_loader):\n",
    "\n",
    "        data = data.to(device=device)\n",
    "        targets = targets.to(device=device)\n",
    "        score = model(data)\n",
    "        loss = criterion(score,targets)\n",
    "        optimizer.zero_grad()\n",
    "        loss.backward()\n",
    "        optimizer.step()\n",
    "\n",
    "    _, predicted = torch.max(score.data, 1)\n",
    "    correct += (predicted == targets).float().sum()\n",
    "    accuracy = 100 * correct / len(targets)\n",
    "    print(\"Epoch = {}, Accuracy = {}\".format(epoch,accuracy))\n",
    "\n"
   ]
  },
  {
   "cell_type": "code",
   "execution_count": null,
   "metadata": {
    "colab": {
     "base_uri": "https://localhost:8080/"
    },
    "id": "7Q9XGRQz4X-H",
    "outputId": "6c61e5c8-1c78-4639-e3f5-fcee263c0893"
   },
   "outputs": [],
   "source": [
    "print(\"Model's state_dict:\")\n",
    "for param_tensor in model.state_dict():\n",
    "    print(param_tensor, \"\\t\", model.state_dict()[param_tensor].size())"
   ]
  },
  {
   "cell_type": "markdown",
   "metadata": {
    "id": "mm3uRQ1y8dC3"
   },
   "source": [
    "Save Model"
   ]
  },
  {
   "cell_type": "code",
   "execution_count": null,
   "metadata": {
    "id": "Lv2LrD8U7vbA"
   },
   "outputs": [],
   "source": [
    "torch.save(model.state_dict(),\"./model_Inverted\")"
   ]
  }
 ],
 "metadata": {
  "accelerator": "GPU",
  "colab": {
   "collapsed_sections": [],
   "name": "FINAL Inverted PyTorch Model P&ID LTTS.ipynb",
   "provenance": []
  },
  "gpuClass": "standard",
  "kernelspec": {
   "display_name": "Python 3",
   "language": "python",
   "name": "python3"
  },
  "language_info": {
   "codemirror_mode": {
    "name": "ipython",
    "version": 3
   },
   "file_extension": ".py",
   "mimetype": "text/x-python",
   "name": "python",
   "nbconvert_exporter": "python",
   "pygments_lexer": "ipython3",
   "version": "3.8.5"
  }
 },
 "nbformat": 4,
 "nbformat_minor": 1
}
